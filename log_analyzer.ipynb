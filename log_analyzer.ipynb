{
  "cells": [
    {
      "metadata": {},
      "cell_type": "markdown",
      "source": "# Codigo para leer un archivo csv"
    },
    {
      "metadata": {
        "trusted": false
      },
      "cell_type": "code",
      "source": "import csv\nimport os\nimport cProfile\nimport time\nimport numpy as np\nimport pandas as pd\nimport time\n\ncwd = os.getcwd()\nprint('terminados los import')",
      "execution_count": null,
      "outputs": []
    },
    {
      "metadata": {},
      "cell_type": "markdown",
      "source": "#### Variables para desarrollo"
    },
    {
      "metadata": {
        "trusted": false
      },
      "cell_type": "code",
      "source": "\ndirdata = 'C:\\\\Users\\\\pol\\\\Documents\\\\JupyterNotebooks\\Machine Learning\\\\';\ndirlistas = 'C:\\\\Users\\\\pol\\\\Documents\\\\JupyterNotebooks\\Machine Learning\\\\';\ndatafile = 'MOCK_DATA_full.csv';\nctrl_usr_lst='ctrl_user.csv';\nctr_ip_lst='ip_ctrl.csv';\n\nACTION_COL='ACTIVIDAD';\nRETURN_COL='RETURN_CODE';\nUSER_COL='ID_USER';\nIP_COL='IP_ORIGEN';\nEMAIL_COL='EMAIL';\nTIMESTAMP_COL='FECHA_HORA';\n\nOK_RCODE= 'NAZ0000';\nLOGIN_CODE='login';\nMODIF_USER_DATA_CODE='cambiodatos'\nprint('cargadas variables desarrollo')",
      "execution_count": null,
      "outputs": []
    },
    {
      "metadata": {},
      "cell_type": "markdown",
      "source": "#### Variables para testing"
    },
    {
      "metadata": {
        "trusted": false
      },
      "cell_type": "code",
      "source": "dirdata = 'C:\\\\Users\\\\pnfernandez\\\\Desktop\\\\cosos\\\\MATERIAL_PROD\\\\OPERATIVO\\\\INCIDENTES\\\\incidente_produccion_XXX\\\\casos\\\\20180910\\\\'\ndirlistas = 'C:\\\\Users\\\\pnfernandez\\\\Desktop\\\\cosos\\\\MATERIAL_PROD\\\\OPERATIVO\\\\INCIDENTES\\\\incidente_produccion_XXX\\\\consultasSeguridad\\\\'\n#datafile = 'export_audit_login_hist_20180815-0909.csv';\ndatafile = 'export_audit_1446.csv';\nctrl_usr_lst='lista_usuarios.csv';\nctr_ip_lst='lista_ip.csv';\n\nACTION_COL='ID_ACTIVITY';\nRETURN_COL='RETURN_CODE';\nUSER_COL='ID_USER';\nIP_COL='CLIENT_IP';\nEMAIL_COL='EMAIL';\nTIMESTAMP_COL='DATE_TIME';\n\nOK_RCODE= 'NAZ0000';\nLOGIN_CODE='client.login';\nMODIF_USER_DATA_CODE='cambiodatos'\nprint('cargadas variables testing')",
      "execution_count": null,
      "outputs": []
    },
    {
      "metadata": {},
      "cell_type": "markdown",
      "source": "## Control: Ver ambiente en curso"
    },
    {
      "metadata": {
        "trusted": false
      },
      "cell_type": "code",
      "source": "print ('directorio actual: ' + cwd);\nprint ('directorio de trabajo: '+dirdata);\nprint ('archivo de datos: '+datafile);\nprint ('lista de usuarios controlados: '+ctrl_usr_lst);\nprint ('lista de ip controladas: ' +ctr_ip_lst);\n\n#print('cargo datos de archivo');\n#indexes =['IP_ORIGEN', 'ID_USER'];\n#data= pd.read_csv(dirname+filename1, index_col=indexes)",
      "execution_count": null,
      "outputs": []
    },
    {
      "metadata": {},
      "cell_type": "markdown",
      "source": "#### Ejecucion: Cargar lista de usuarios controlados"
    },
    {
      "metadata": {
        "trusted": false
      },
      "cell_type": "code",
      "source": "start_time = time.time()\n# your script\nctrl_usr=pd.read_csv(dirlistas+ctrl_usr_lst);\nprint('lista de usuarios cargada');\n\nelapsed_time = time.time() - start_time\ntime.strftime(\"%H:%M:%S\", time.gmtime(elapsed_time))",
      "execution_count": null,
      "outputs": []
    },
    {
      "metadata": {},
      "cell_type": "markdown",
      "source": "#### Ejecucion: Cargar lista de ips controladas"
    },
    {
      "metadata": {
        "trusted": false
      },
      "cell_type": "code",
      "source": "start_time = time.time();\nctrl_ip=pd.read_csv(dirlistas+ctr_ip_lst);\nprint('lista de ips cargada');\n\nelapsed_time = time.time() - start_time;\ntime.strftime(\"%H:%M:%S\", time.gmtime(elapsed_time))",
      "execution_count": null,
      "outputs": []
    },
    {
      "metadata": {},
      "cell_type": "markdown",
      "source": "#### Ejecucion: Cargar auditoria"
    },
    {
      "metadata": {
        "trusted": false
      },
      "cell_type": "code",
      "source": "start_time = time.time();\ndata= pd.read_csv(dirdata+datafile);\nprint('auditoria cargada');\n\nelapsed_time = time.time() - start_time;\ntime.strftime(\"%H:%M:%S\", time.gmtime(elapsed_time))",
      "execution_count": null,
      "outputs": []
    },
    {
      "metadata": {},
      "cell_type": "markdown",
      "source": "#### Control: cabezal de datos cargados"
    },
    {
      "metadata": {
        "scrolled": true,
        "trusted": false
      },
      "cell_type": "code",
      "source": "ALL = 1;# Poner 1 para todos, 0 para SOLO LOS QUE TIENEN RETURN_COL = OK\ndata[(ALL) | (data[RETURN_COL]==OK_RCODE)].head(5) ",
      "execution_count": null,
      "outputs": []
    },
    {
      "metadata": {},
      "cell_type": "markdown",
      "source": "#### Control: cabezal de lista de usuarios controlados"
    },
    {
      "metadata": {
        "trusted": false
      },
      "cell_type": "code",
      "source": "ctrl_usr.head(10)",
      "execution_count": null,
      "outputs": []
    },
    {
      "metadata": {},
      "cell_type": "markdown",
      "source": "#### Control: cabezal de lista de ip controladas"
    },
    {
      "metadata": {
        "trusted": false
      },
      "cell_type": "code",
      "source": "ctrl_ip.head(10)",
      "execution_count": null,
      "outputs": []
    },
    {
      "metadata": {},
      "cell_type": "markdown",
      "source": "## Reporte: detalle de auditoria"
    },
    {
      "metadata": {
        "scrolled": true,
        "trusted": false
      },
      "cell_type": "code",
      "source": "ALL = 1; #poner 1 para LISTAR TODOS LOS USUARIOS, 0 para filtrar por usuario especifico\nALERT_USER = 25441328;# indicar el usuario especifico\nALL_IP=0;\nALERT_IP = '180.184.197.155';\n\ndata[(ALL_IP |(data[IP_COL]==ALERT_IP))& \\\n    (ALL) | (data[USER_COL].round() == ALERT_USER)]",
      "execution_count": null,
      "outputs": []
    },
    {
      "metadata": {},
      "cell_type": "markdown",
      "source": "## Reporte: join auditoria con lista de usuarios controlados"
    },
    {
      "metadata": {
        "scrolled": true,
        "trusted": false
      },
      "cell_type": "code",
      "source": "ALL = 0; #poner 1 para LISTAR TODOS LOS USUARIOS, 0 para filtrar por usuario especifico\nALERT_USER = 43896121;# indicar el usuario especifico\ndata[(ALL) | \\\n     (data[USER_COL].round() == ALERT_USER)].\\\n        join(ctrl_usr.set_index(USER_COL), \\\n             on=USER_COL, how='inner')",
      "execution_count": null,
      "outputs": []
    },
    {
      "metadata": {},
      "cell_type": "markdown",
      "source": "## Reporte: Filtrar auditoría por email"
    },
    {
      "metadata": {
        "scrolled": true,
        "trusted": false
      },
      "cell_type": "code",
      "source": "ALL = 1; #poner 1 para LISTAR TODOS LOS USUARIOS, 0 para filtrar por usuario especifico\nALERT_EMAIL = 'jkier0@patch.com';\ndata[(ALL) | \\\n     (data['EMAIL'] == ALERT_EMAIL)].\\\n        join(ctrl_usr.set_index(USER_COL), \\\n             on=USER_COL, how='inner')",
      "execution_count": null,
      "outputs": []
    },
    {
      "metadata": {},
      "cell_type": "markdown",
      "source": "## Reporte: join auditoria con lista de IP controlada"
    },
    {
      "metadata": {
        "trusted": false
      },
      "cell_type": "code",
      "source": "data.join(ctrl_ip.set_index(IP_COL), on=IP_COL, how='inner')",
      "execution_count": null,
      "outputs": []
    },
    {
      "metadata": {},
      "cell_type": "markdown",
      "source": "## Reporte: join de login correctos con lista de ip controladas"
    },
    {
      "metadata": {
        "trusted": false
      },
      "cell_type": "code",
      "source": "ALL = 1; #poner 1 para LISTAR TODOS LOS \nALERT_USER = 123456;# indicar el usuario especifico\ndata[(data[ACTION_COL]==LOGIN_CODE) & \\\n     (data[RETURN_COL]==OK_RCODE)& \\\n    (ALL |(data[USER_COL].round()==ALERT_USER))].\\\n            join(ctrl_ip.set_index(IP_COL),\\\n              on=IP_COL, how='inner')\n",
      "execution_count": null,
      "outputs": []
    },
    {
      "metadata": {},
      "cell_type": "markdown",
      "source": "## Reporte: join de login INCORRECTOS con lista de usuarios controlados\nLista todas las tuplas de login que hayan sido incorrectas, tomando como base la lista de usuarios controlados.\n\nUsar las variables ALERT_USER y ALL para filtrar por un usuario específico"
    },
    {
      "metadata": {
        "scrolled": true,
        "trusted": false
      },
      "cell_type": "code",
      "source": "print('join de datos con lista de ip')\nALL = 1; #poner 1 para LISTAR TODOS LOS \nALERT_USER = 43896121;# indicar el usuario especifico\ndata[(data[ACTION_COL]==LOGIN_CODE) & \\\n     (data[RETURN_COL]!=OK_RCODE)& \\\n    (ALL |(data[USER_COL].round()==ALERT_USER))].\\\n            join(ctrl_usr.set_index(USER_COL),\\\n              on=USER_COL, how='inner')",
      "execution_count": null,
      "outputs": []
    },
    {
      "metadata": {},
      "cell_type": "markdown",
      "source": "## Reporte: lista de usuarios controlados e IP que tuvieron login INCORRECTOS\nLista los usuarios controlados y sus IPs que tuvieron intento de login incorrectos"
    },
    {
      "metadata": {
        "scrolled": true,
        "trusted": false
      },
      "cell_type": "code",
      "source": "print('join de datos con lista de ip\\n')\nALL = 1; #poner 1 para LISTAR TODOS LOS \nALERT_USER = 43896121;# indicar el usuario especifico\nctrlusr_loginerr_cant=data[(data[ACTION_COL]==LOGIN_CODE) & \\\n     (data[RETURN_COL]!=OK_RCODE)& \\\n    (ALL |(data[USER_COL].round()==ALERT_USER))].\\\n            join(ctrl_usr.set_index(USER_COL),\\\n              on=USER_COL, how='inner')\\\n                .drop_duplicates([IP_COL,USER_COL])\\\n                .groupby([USER_COL, IP_COL]).size();\n\nprint('\\nlista de usuarios y cantidad de IP');\nprint(ctrlusr_loginerr_cant.groupby([USER_COL]).size());\nprint('\\ndetalle de   usuarios e IP');\nprint(ctrlusr_loginerr_cant);\n\n",
      "execution_count": null,
      "outputs": []
    },
    {
      "metadata": {},
      "cell_type": "markdown",
      "source": "## Reporte: lista de IP en join de login CORRECTOS con lista de usuarios controlados"
    },
    {
      "metadata": {
        "trusted": false
      },
      "cell_type": "code",
      "source": "print('join de datos con lista de ip\\n')\nALL_USER =1; #poner 1 para LISTAR TODOS LOS \nALERT_USER = 1000005;# indicar el usuario especifico\nALL_IP=1;\nALERT_IP = '10.234.33.45';\nip_loginok_cant =data[(data[ACTION_COL]==LOGIN_CODE) & \\\n     (data[RETURN_COL]==OK_RCODE)& \\\n    (ALL_IP |(data[IP_COL]==ALERT_IP))& \\\n    (ALL_USER |(data[USER_COL]==ALERT_USER))].\\\n            join(ctrl_usr.set_index(USER_COL),\\\n              on=USER_COL, how='inner')\\\n                .drop_duplicates([IP_COL,USER_COL])\\\n                .groupby([IP_COL, USER_COL]).size();\nip_loginok_cant;\nprint('\\nlista de usuarios y cantidad de IP');\nprint(ip_loginok_cant.groupby([IP_COL]).size());\nprint('\\ndetalle de   usuarios e IP');\nprint(ip_loginok_cant);",
      "execution_count": null,
      "outputs": []
    },
    {
      "metadata": {},
      "cell_type": "markdown",
      "source": "## lista de IP en join de login INCORRECTOS con lista de usuarios controlados (edicion)"
    },
    {
      "metadata": {
        "scrolled": true,
        "trusted": false
      },
      "cell_type": "code",
      "source": "print('join de datos con lista de ip\\n')\nALL =1; #poner 1 para LISTAR TODOS LOS \nALERT_USER = 1000005;# indicar el usuario especifico\nip_loginerr_cant=data[(data[ACTION_COL]==LOGIN_CODE) & \\\n     (data[RETURN_COL]!=OK_RCODE)& \\\n    (ALL |(data[USER_COL]==ALERT_USER))].\\\n            join(ctrl_usr.set_index(USER_COL),\\\n              on=USER_COL, how='inner')\\\n                .drop_duplicates([IP_COL,USER_COL])\\\n                .groupby([IP_COL, USER_COL]).size();\nip_loginerr_cant;\nprint('\\nlista de usuarios y cantidad de IP');\nprint(ip_loginerr_cant.groupby([IP_COL]).size());\nprint('\\ndetalle de   usuarios e IP');\nprint(ip_loginerr_cant);",
      "execution_count": null,
      "outputs": []
    },
    {
      "metadata": {},
      "cell_type": "markdown",
      "source": "## lista de usuarios distintos joineados con ip_controlada"
    },
    {
      "metadata": {
        "trusted": false
      },
      "cell_type": "code",
      "source": "data.join(ctrl_ip.set_index(IP_COL), on=IP_COL, how='inner').drop_duplicates([USER_COL])[USER_COL]",
      "execution_count": null,
      "outputs": []
    },
    {
      "metadata": {},
      "cell_type": "markdown",
      "source": "## Actividad de usuarios con ip duplicada (EDICION)"
    },
    {
      "metadata": {
        "trusted": false
      },
      "cell_type": "code",
      "source": "data.join(ctrl_ip.set_index(IP_COL), on=IP_COL, how='inner').drop_duplicates([USER_COL])",
      "execution_count": null,
      "outputs": []
    },
    {
      "metadata": {
        "trusted": false
      },
      "cell_type": "code",
      "source": "data.sort_values(by=[USER_COL,TIMESTAMP_COL])",
      "execution_count": null,
      "outputs": []
    },
    {
      "metadata": {
        "trusted": false
      },
      "cell_type": "code",
      "source": "#data.loc[data['RETURN_CODE']== OK_RCODE]\ncambiodatos=data[USER_COL].loc[data[ACTION_COL] == MODIF_USER_DATA_COL]\nprint(cambiodatos)",
      "execution_count": null,
      "outputs": []
    },
    {
      "metadata": {
        "trusted": false
      },
      "cell_type": "code",
      "source": "data.groupby(USER_COL)[TIMESTAMP_COL].groups",
      "execution_count": null,
      "outputs": []
    },
    {
      "metadata": {
        "trusted": false
      },
      "cell_type": "code",
      "source": "print('creo lista de ip-usuario');\nip_user_list = data[[IP_COL, USER_COL, RETURN_COL]].drop_duplicates([IP_COL, USER_COL,RETURN_COL]);#elimina duplicados por columnas\n",
      "execution_count": null,
      "outputs": []
    },
    {
      "metadata": {
        "trusted": false
      },
      "cell_type": "code",
      "source": "ip_user_list\n#ip_user_list.head()",
      "execution_count": null,
      "outputs": []
    },
    {
      "metadata": {
        "trusted": false
      },
      "cell_type": "code",
      "source": "#lista las tuplas originales que tienen al usuario que se repite mas de 'rep'\nrep = 1\ng = data.drop_duplicates([IP_COL, USER_COL]).groupby([IP_COL]) #agrupa por usuario e ip\n",
      "execution_count": null,
      "outputs": []
    },
    {
      "metadata": {
        "trusted": false
      },
      "cell_type": "code",
      "source": "#g.filter(lambda x: len(x) > rep)\ng.head(100) #muestra las tuplas contenidas en los grupos",
      "execution_count": null,
      "outputs": []
    },
    {
      "metadata": {
        "trusted": false
      },
      "cell_type": "code",
      "source": "#g.filter(lambda x: len(x) > rep)\ng.groups",
      "execution_count": null,
      "outputs": []
    },
    {
      "metadata": {},
      "cell_type": "markdown",
      "source": "## lista las tuplas originales que tienen al usuario que se repite mas de 'rep' (EDICION)"
    },
    {
      "metadata": {
        "trusted": false
      },
      "cell_type": "code",
      "source": "\nrep = 1\ng = data.drop_duplicates([IP_COL, USER_COL]).groupby([IP_COL]) #agrupa por usuario e ip\ng.filter(lambda x: len(x) > rep)",
      "execution_count": null,
      "outputs": []
    },
    {
      "metadata": {
        "trusted": false
      },
      "cell_type": "code",
      "source": "#lista las tuplas originales que tienen al usuario que se repite mas de 'rep'\nrep = 1\ng = data.drop_duplicates([IP_COL, USER_COL]).groupby([IP_COL]) #agrupa por usuario e ip\ng.filter(lambda x: len(x) > rep)",
      "execution_count": null,
      "outputs": []
    },
    {
      "metadata": {
        "trusted": false
      },
      "cell_type": "code",
      "source": "ip_gb_user = ip_user_list.groupby([IP_COL]).size(); #agrupa por usuario e ip\nip_gb_user\n#ip_gb_user.head()",
      "execution_count": null,
      "outputs": []
    },
    {
      "metadata": {
        "trusted": false
      },
      "cell_type": "code",
      "source": "email_user_list = data[[EMAIL_COL, USER_COL]].drop_duplicates([EMAIL_COL, USER_COL]);#elimina duplicados por columnas\nemail_user_list\n#ip_user_list.head()",
      "execution_count": null,
      "outputs": []
    },
    {
      "metadata": {
        "trusted": false
      },
      "cell_type": "code",
      "source": "email_gb_user = email_user_list.groupby([EMAIL_COL]).size(); #agrupa por usuario e ip\nemail_gb_user\n#ip_gb_user.head()",
      "execution_count": null,
      "outputs": []
    },
    {
      "metadata": {
        "trusted": false
      },
      "cell_type": "code",
      "source": "#agrupa por ip y usuario desde la lista ya filtrada. no repite usuario-ip\nip_user_list.groupby([IP_COL, USER_COL]).size()",
      "execution_count": null,
      "outputs": []
    },
    {
      "metadata": {
        "trusted": false
      },
      "cell_type": "code",
      "source": "#agrupa por ip y usuario \n#(repetido el group by para que no cuente duplicado al mismo ip-usuario \n# al trabajar desde el dataframe original con duplicados)\n\ndata.groupby([IP_COL, USER_COL]).size().groupby([IP_COL, USER_COL]).size() ",
      "execution_count": null,
      "outputs": []
    },
    {
      "metadata": {
        "trusted": false
      },
      "cell_type": "code",
      "source": "#lista las tuplas originales que tienen al usuario que se repite en mas ip que 'rep'\nrep = 1\ng1 = data.drop_duplicates([IP_COL, USER_COL]).groupby([USER_COL]) #agrupa por usuario e ip\n\ng1.filter(lambda x: len(x) > rep)\n",
      "execution_count": null,
      "outputs": []
    },
    {
      "metadata": {
        "trusted": false
      },
      "cell_type": "code",
      "source": "g2 = ip_user_list.groupby([USER_COL]) #agrupa por usuario e ip\ng2.filter(lambda x: len(x) > rep)",
      "execution_count": null,
      "outputs": []
    },
    {
      "metadata": {},
      "cell_type": "markdown",
      "source": "## lista las tuplas originales que tienen a la ip que se repite en mas ip que 'rep' (EDICION)"
    },
    {
      "metadata": {
        "trusted": false
      },
      "cell_type": "code",
      "source": "#\nrep = 1\ng = data.drop_duplicates([IP_COL, USER_COL]).groupby([IP_COL]) #agrupa por usuario e ip\ng.filter(lambda x: len(x) > rep)",
      "execution_count": null,
      "outputs": []
    },
    {
      "metadata": {
        "trusted": false
      },
      "cell_type": "code",
      "source": "data.groupby([IP_COL]).size().head()",
      "execution_count": null,
      "outputs": []
    },
    {
      "metadata": {
        "trusted": false
      },
      "cell_type": "code",
      "source": "g = data.groupby([IP_COL, USER_COL])\n#g = data.groupby(['ip','usuario']).size()\ng.filter(lambda x: len(x) > 1)",
      "execution_count": null,
      "outputs": []
    },
    {
      "metadata": {
        "trusted": false
      },
      "cell_type": "code",
      "source": "data.groupby([IP_COL, USER_COL]).size().head() #agrupa por ip y usuario",
      "execution_count": null,
      "outputs": []
    },
    {
      "metadata": {
        "trusted": false
      },
      "cell_type": "code",
      "source": "data.dtypes",
      "execution_count": null,
      "outputs": []
    }
  ],
  "metadata": {
    "kernelspec": {
      "name": "python3",
      "display_name": "Python 3",
      "language": "python"
    },
    "language_info": {
      "mimetype": "text/x-python",
      "nbconvert_exporter": "python",
      "name": "python",
      "pygments_lexer": "ipython3",
      "version": "3.5.4",
      "file_extension": ".py",
      "codemirror_mode": {
        "version": 3,
        "name": "ipython"
      }
    },
    "varInspector": {
      "cols": {
        "lenName": 16,
        "lenType": 16,
        "lenVar": 40
      },
      "kernels_config": {
        "python": {
          "delete_cmd_postfix": "",
          "delete_cmd_prefix": "del ",
          "library": "var_list.py",
          "varRefreshCmd": "print(var_dic_list())"
        },
        "r": {
          "delete_cmd_postfix": ") ",
          "delete_cmd_prefix": "rm(",
          "library": "var_list.r",
          "varRefreshCmd": "cat(var_dic_list()) "
        }
      },
      "position": {
        "height": "337px",
        "left": "622px",
        "right": "231px",
        "top": "158px",
        "width": "523px"
      },
      "types_to_exclude": [
        "module",
        "function",
        "builtin_function_or_method",
        "instance",
        "_Feature"
      ],
      "window_display": false
    }
  },
  "nbformat": 4,
  "nbformat_minor": 2
}